{
 "cells": [
  {
   "cell_type": "code",
   "execution_count": null,
   "id": "97f607a6",
   "metadata": {},
   "outputs": [],
   "source": [
    "import pandas as pd\n",
    "import numpy as np\n",
    "from scipy.stats import norm\n",
    "import matplotlib.pyplot as plt\n",
    "import matplotlib.ticker as mtick"
   ]
  },
  {
   "cell_type": "markdown",
   "id": "3c6b5449",
   "metadata": {},
   "source": [
    "# Load DFs"
   ]
  },
  {
   "cell_type": "code",
   "execution_count": null,
   "id": "67aeb21a",
   "metadata": {},
   "outputs": [],
   "source": [
    "squeeth_bt_df = pd.read_csv('strategy_dfs/squeeth_backtest_df.csv', index_col=0)\n",
    "deribit_bt_df = pd.read_csv('strategy_dfs/deribit_backtest_df.csv', index_col=0)"
   ]
  },
  {
   "cell_type": "markdown",
   "id": "942a04ed",
   "metadata": {},
   "source": [
    "# Plot IV Comparison"
   ]
  },
  {
   "cell_type": "code",
   "execution_count": null,
   "id": "6b8fbda8",
   "metadata": {},
   "outputs": [],
   "source": [
    "def plot_iv_comparison(squeeth_bt_df, deribit_bt_df):\n",
    "    squeeth_bt_df.index = pd.to_datetime(squeeth_bt_df.index, unit='ns')\n",
    "    deribit_bt_df['freq_timestamp'] = pd.to_datetime(deribit_bt_df['freq_timestamp'], unit='ns')\n",
    "    grouped_df =  deribit_bt_df.groupby('freq_timestamp')\n",
    "    \n",
    "    iv_comparison_df = pd.DataFrame({\n",
    "        '17.5-day ATM IV': grouped_df['smile_avg_vol_17.5_days'].last().ewm(halflife=1).mean(),\n",
    "        '17.5-day DVOL': grouped_df['dvol_17.5_days'].last().ewm(halflife=1).mean(),\n",
    "        '17.5-day Option IV': grouped_df['2perp_vol_17.5_days'].last().ewm(halflife=1).mean(),\n",
    "        'Squeeth IV': squeeth_bt_df['osqth_iv'].ewm(halflife=3).mean() \n",
    "    })\n",
    "    \n",
    "    iv_comparison_df.dropna().plot(figsize=(20, 10), grid=True)\n",
    "    plt.ylabel('Vol', fontsize=14)\n",
    "    plt.legend(loc=1, prop={'size': 14})\n",
    "    plt.xticks(fontsize=14)\n",
    "    plt.yticks(fontsize=14)\n",
    "    \n",
    "    return iv_comparison_df"
   ]
  },
  {
   "cell_type": "code",
   "execution_count": null,
   "id": "7c20372f",
   "metadata": {},
   "outputs": [],
   "source": [
    "ivs_df = plot_iv_comparison(squeeth_bt_df, deribit_bt_df)"
   ]
  },
  {
   "cell_type": "markdown",
   "id": "e7b56e47",
   "metadata": {},
   "source": [
    "# Power-2 Perp vs Power-2 Future"
   ]
  },
  {
   "cell_type": "code",
   "execution_count": null,
   "id": "ca1069da",
   "metadata": {},
   "outputs": [],
   "source": [
    "def power2_perp_price(S, N, sigma, T):\n",
    "    carry_term = (N + 1)*np.exp(-T*(sigma**2/N)) - N\n",
    "    return S**2 / carry_term\n",
    "\n",
    "def power2_perp_iv(S, N=420, sigma=0.9, funding_period_days=17.5):\n",
    "    T = funding_period_days / 365.\n",
    "    D = power2_perp_price(S, N, sigma, T)\n",
    "    return np.sqrt(N*np.log((D*(N + 1))/(D*N + S**2)))*np.sqrt(365. / funding_period_days)\n",
    "\n",
    "def power2_perp_approx_iv(S, N=420, sigma=0.9, days_to_expiry=17.5):\n",
    "    T = days_to_expiry / 365.\n",
    "    D = power2_perp_price(S, N, sigma, T)\n",
    "    return np.sqrt(np.log(D/S**2))*np.sqrt(365./days_to_expiry)\n",
    "\n",
    "def power2_future_price(S, sigma, T):\n",
    "    carry_term = np.exp(T*sigma**2)\n",
    "    return S**2 * carry_term\n",
    "\n",
    "def power2_future_iv(S, sigma=0.9, days_to_expiry=17.5):\n",
    "    T = days_to_expiry / 365.\n",
    "    cost = power2_future_price(S, sigma, T)\n",
    "    return np.sqrt(np.log(cost/S**2))*np.sqrt(365./days_to_expiry)"
   ]
  },
  {
   "cell_type": "code",
   "execution_count": null,
   "id": "8df9efaf",
   "metadata": {},
   "outputs": [],
   "source": [
    "def compare_perp_future_prices(\n",
    "    underlying_price=2500, \n",
    "    num_funding_periods=420, \n",
    "    funding_period_days=17.5,\n",
    "    sigma_range=np.arange(0.5, 2.5, 0.5)\n",
    "):\n",
    "    T = funding_period_days / 365.\n",
    "    \n",
    "    perp_prices, future_prices = [], []\n",
    "    for sigma in sigma_range:\n",
    "        perp_prices.append(power2_perp_price(underlying_price, num_funding_periods, sigma, T))\n",
    "        future_prices.append(power2_future_price(underlying_price, sigma, T))\n",
    "    \n",
    "    perp_prices = np.asarray(perp_prices)\n",
    "    future_prices = np.asarray(future_prices)\n",
    "    perc_diff = np.log(perp_prices / future_prices)\n",
    "    \n",
    "    plt.plot(sigma_range, perc_diff)\n",
    "    plt.ylabel('% Price Diff')\n",
    "    plt.xlabel('Vol')\n",
    "    plt.grid(True)\n",
    "    plt.gca().yaxis.set_major_formatter(mtick.PercentFormatter(xmax=1.0))\n",
    "    plt.gca().xaxis.set_major_formatter(mtick.PercentFormatter(xmax=1.0))\n",
    "    plt.show()\n",
    "    \n",
    "    plt.plot(sigma_range, perp_prices, label='Power-2 Perp, Funding Period = {} days'.format(funding_period_days))\n",
    "    plt.plot(sigma_range, future_prices, label='Power-2 Future, Expiration = {} days'.format(funding_period_days))\n",
    "    plt.ylabel('Price')\n",
    "    plt.xlabel('Vol')\n",
    "    plt.legend()\n",
    "    plt.grid(True)\n",
    "    plt.gca().xaxis.set_major_formatter(mtick.PercentFormatter(xmax=1.0))\n",
    "    plt.show()\n",
    "    \n",
    "    return {'perp_prices': perp_prices, 'future_prices': future_prices}"
   ]
  },
  {
   "cell_type": "code",
   "execution_count": null,
   "id": "eb124e47",
   "metadata": {},
   "outputs": [],
   "source": [
    "results = compare_perp_future_prices()"
   ]
  },
  {
   "cell_type": "code",
   "execution_count": null,
   "id": "b7d55a1c",
   "metadata": {},
   "outputs": [],
   "source": [
    "def compare_perp_future_ivs(\n",
    "    underlying_price=2500, \n",
    "    num_funding_periods=420, \n",
    "    funding_period_days=17.5,\n",
    "    sigma_range=np.arange(0.5, 2.5, 0.5)\n",
    "):\n",
    "    \n",
    "    perp_ivs, approx_perp_ivs = [], []\n",
    "    for sigma in sigma_range:\n",
    "        perp_ivs.append(power2_perp_iv(underlying_price, num_funding_periods, sigma, funding_period_days))\n",
    "        approx_perp_ivs.append(power2_perp_approx_iv(underlying_price, num_funding_periods, sigma, funding_period_days))\n",
    "    \n",
    "    perp_ivs = np.asarray(perp_ivs)\n",
    "    approx_perp_ivs = np.asarray(approx_perp_ivs)\n",
    "    perc_diff = np.log(approx_perp_ivs / perp_ivs)\n",
    "    \n",
    "    plt.plot(sigma_range, perc_diff)\n",
    "    plt.ylabel('% IV Diff')\n",
    "    plt.xlabel('Vol')\n",
    "    plt.grid(True)\n",
    "    plt.gca().yaxis.set_major_formatter(mtick.PercentFormatter(xmax=1.0))\n",
    "    plt.gca().xaxis.set_major_formatter(mtick.PercentFormatter(xmax=1.0))\n",
    "    plt.show()\n",
    "\n",
    "    plt.plot(sigma_range, perp_ivs, label='Power-2 Perp, Funding Period = {} days'.format(funding_period_days))\n",
    "    plt.plot(sigma_range, approx_perp_ivs, label='Approx Power-2 Perp')\n",
    "    plt.ylabel('IV')\n",
    "    plt.xlabel('Vol')\n",
    "    plt.gca().yaxis.set_major_formatter(mtick.PercentFormatter(xmax=1.0))\n",
    "    plt.gca().xaxis.set_major_formatter(mtick.PercentFormatter(xmax=1.0))\n",
    "    plt.legend()\n",
    "    plt.grid(True)\n",
    "    plt.show()\n",
    "    \n",
    "    return {'perp_ivs': perp_ivs, 'approx_perp_ivs': approx_perp_ivs}"
   ]
  },
  {
   "cell_type": "code",
   "execution_count": null,
   "id": "9a1f9fe1",
   "metadata": {},
   "outputs": [],
   "source": [
    "results = compare_perp_future_ivs()"
   ]
  },
  {
   "cell_type": "markdown",
   "id": "473f2d60",
   "metadata": {},
   "source": [
    "# Power-2 Future vs Options"
   ]
  },
  {
   "cell_type": "code",
   "execution_count": null,
   "id": "5d2d491b",
   "metadata": {},
   "outputs": [],
   "source": [
    "def option_price(S, K, sigma, T, option_type='call'):\n",
    "    d1 = (np.log(S/K) + T*(sigma**2/2)) / (sigma*np.sqrt(T))\n",
    "    d2 = d1 - sigma*np.sqrt(T)\n",
    "    \n",
    "    if option_type == 'call':\n",
    "        return S*norm.cdf(d1) - K*norm.cdf(d2)\n",
    "    elif option_type == 'put':\n",
    "        return K*norm.cdf(-d2) - S*norm.cdf(-d1)\n",
    "    \n",
    "def option_rep_port_price(S, dK, sigma, T, max_K_mul=4):\n",
    "    K_0 = S\n",
    "    min_K = 0\n",
    "    max_K = max_K_mul*S\n",
    "    \n",
    "    put_strikes = np.arange(min_K, K_0, dK)\n",
    "    call_strikes = np.arange(K_0, max_K + dK, dK)\n",
    "\n",
    "    put_cost = 2*dK*np.sum(np.asarray([option_price(S, K, sigma, T, 'put') for K in put_strikes]))\n",
    "    call_cost = 2*dK*np.sum(np.asarray([option_price(S, K, sigma, T, 'call') for K in call_strikes]))\n",
    "        \n",
    "    return K_0**2 + 2*K_0*(S - K_0) + call_cost + put_cost\n",
    "    \n",
    "def option_rep_port_iv(S, dK=1, sigma=0.9, days_to_expiry=17.5):\n",
    "    T = days_to_expiry / 365.\n",
    "    cost = option_rep_port_price(S, dK, sigma, T)\n",
    "    return np.sqrt(np.log(cost / S**2))*np.sqrt(365. / days_to_expiry)"
   ]
  },
  {
   "cell_type": "code",
   "execution_count": null,
   "id": "0bc693fa",
   "metadata": {},
   "outputs": [],
   "source": [
    "def compare_options_port_future(\n",
    "    underlying_price=2500,\n",
    "    dK=1,\n",
    "    sigma_range=np.arange(0.5, 2.5, 0.5),\n",
    "    days_to_expiry=17.5,\n",
    "):\n",
    "    option_ivs, future_ivs = [], []\n",
    "    for sigma in sigma_range:\n",
    "        option_ivs.append(option_rep_port_iv(underlying_price, dK, sigma, days_to_expiry))\n",
    "        future_ivs.append(power2_future_iv(underlying_price, sigma, days_to_expiry))\n",
    "    \n",
    "    option_ivs = np.asarray(option_ivs)\n",
    "    future_ivs = np.asarray(future_ivs)\n",
    "\n",
    "    option_prices, future_prices = [], []\n",
    "    for sigma in sigma_range:\n",
    "        option_prices.append(option_rep_port_price(underlying_price, dK, sigma, days_to_expiry / 365.))\n",
    "        future_prices.append(power2_future_price(underlying_price, sigma, days_to_expiry / 365.))\n",
    "\n",
    "    option_prices = np.asarray(option_prices)\n",
    "    future_prices = np.asarray(future_prices)\n",
    "\n",
    "    plt.plot(sigma_range, option_ivs, label='Option IV, Expiration = {} days'.format(days_to_expiry))\n",
    "    plt.plot(sigma_range, future_ivs, label='Power-2 Future IV, Expiration = {} days'.format(days_to_expiry))\n",
    "    plt.ylabel('IV')\n",
    "    plt.xlabel('Vol')\n",
    "    plt.gca().yaxis.set_major_formatter(mtick.PercentFormatter(xmax=1.0))\n",
    "    plt.gca().xaxis.set_major_formatter(mtick.PercentFormatter(xmax=1.0))\n",
    "    plt.legend()\n",
    "    plt.grid(True)\n",
    "    plt.show()\n",
    "    \n",
    "    plt.plot(sigma_range, option_prices, label='Option Price, Expiration = {} days'.format(days_to_expiry))\n",
    "    plt.plot(sigma_range, future_prices, label='Power-2 Future Price, Expiration = {} days'.format(days_to_expiry))\n",
    "    plt.ylabel('Price')\n",
    "    plt.xlabel('Vol')\n",
    "    plt.gca().xaxis.set_major_formatter(mtick.PercentFormatter(xmax=1.0))\n",
    "    plt.legend()\n",
    "    plt.grid(True)\n",
    "    plt.show()\n",
    "\n",
    "    return {\n",
    "        'option_ivs': option_ivs, \n",
    "        'future_ivs': future_ivs, \n",
    "        'option_prices': option_prices, \n",
    "        'future_prices': future_prices\n",
    "    }\n",
    "\n",
    "def compare_option_dK_IV(\n",
    "    underlying_price=2500,\n",
    "    dKs=[0.1, 1, 10, 25, 50, 100],\n",
    "    sigma=0.9,\n",
    "    days_to_expiry=17.5\n",
    "):\n",
    "    option_dK_ivs = [option_rep_port_iv(underlying_price, dK, sigma, days_to_expiry) for dK in dKs]\n",
    "    option_dK_ivs = np.asarray(option_dK_ivs)\n",
    "    \n",
    "    plt.plot(dKs, option_dK_ivs)\n",
    "    plt.xscale('log')\n",
    "    plt.ylabel('IV')\n",
    "    plt.xlabel('dK')\n",
    "    plt.gca().yaxis.set_major_formatter(mtick.PercentFormatter(xmax=1.0))\n",
    "    plt.grid(True)\n",
    "    plt.show()\n",
    "    \n",
    "    return {'option_dK_ivs': option_dK_ivs}"
   ]
  },
  {
   "cell_type": "code",
   "execution_count": null,
   "id": "fbd5b630",
   "metadata": {},
   "outputs": [],
   "source": [
    "results = compare_options_port_future()"
   ]
  },
  {
   "cell_type": "code",
   "execution_count": null,
   "id": "e921a93a",
   "metadata": {},
   "outputs": [],
   "source": [
    "results = compare_option_dK_IV()"
   ]
  },
  {
   "cell_type": "markdown",
   "id": "bf74e57e",
   "metadata": {},
   "source": [
    "# Exact Squeeth Replicating Portfolio"
   ]
  },
  {
   "cell_type": "code",
   "execution_count": null,
   "id": "0e165aeb",
   "metadata": {},
   "outputs": [],
   "source": [
    "import seaborn as sns\n",
    "\n",
    "def squeeth_rep_port_option_notional(\n",
    "    num_funding_periods=35,\n",
    "    funding_period_days=17.5,\n",
    "    dk=100,\n",
    "    S=2500,\n",
    "    max_i=100\n",
    "):\n",
    "    min_K = 0\n",
    "    max_K = 2*S\n",
    "    N = num_funding_periods\n",
    "    P = funding_period_days\n",
    "        \n",
    "    strikes = np.arange(min_K, max_K + dk, dk)\n",
    "    expiries = np.asarray([(P/N)*i for i in range(1, max_i)])\n",
    "    \n",
    "    expiry_weights = np.asarray([(1/N)*(N/(N+1))**i for i in range(1, max_i)]).reshape(-1, 1)\n",
    "    strike_weights = np.full(shape=(len(expiries), len(strikes)), fill_value=2*dk)\n",
    "    option_weights = expiry_weights*strike_weights\n",
    "    option_weights_df = pd.DataFrame(option_weights, index=expiries, columns=strikes)\n",
    "    option_weights_plot_df = option_weights_df[option_weights_df.index <= 2*funding_period_days]\n",
    "\n",
    "    hm = sns.heatmap(option_weights_plot_df, annot=False, linecolor='white', linewidths=0.05)\n",
    "    hm.set_xlabel('Strike Price')\n",
    "    hm.set_ylabel('Days to Expiry')\n",
    "    hm.set_title('# of Options')\n",
    "    \n",
    "    return option_weights_df"
   ]
  },
  {
   "cell_type": "code",
   "execution_count": null,
   "id": "c07f69e0",
   "metadata": {},
   "outputs": [],
   "source": [
    "notional_weights = squeeth_rep_port_option_notional()"
   ]
  },
  {
   "cell_type": "code",
   "execution_count": null,
   "id": "28f726d9",
   "metadata": {},
   "outputs": [],
   "source": []
  }
 ],
 "metadata": {
  "kernelspec": {
   "display_name": "Python 3",
   "language": "python",
   "name": "python3"
  },
  "language_info": {
   "codemirror_mode": {
    "name": "ipython",
    "version": 3
   },
   "file_extension": ".py",
   "mimetype": "text/x-python",
   "name": "python",
   "nbconvert_exporter": "python",
   "pygments_lexer": "ipython3",
   "version": "3.8.13"
  }
 },
 "nbformat": 4,
 "nbformat_minor": 5
}
