{
 "cells": [
  {
   "cell_type": "code",
   "execution_count": null,
   "id": "0708fc21",
   "metadata": {},
   "outputs": [],
   "source": [
    "import pandas as pd\n",
    "import numpy as np\n",
    "import matplotlib.pyplot as plt\n",
    "from backtester import StrategyRunner"
   ]
  },
  {
   "cell_type": "markdown",
   "id": "3fa90fe2",
   "metadata": {},
   "source": [
    "# Load Backtest DFs"
   ]
  },
  {
   "cell_type": "code",
   "execution_count": null,
   "id": "c57db9ae",
   "metadata": {},
   "outputs": [],
   "source": [
    "squeeth_bt_df = pd.read_csv('strategy_dfs/squeeth_backtest_df.csv', index_col=0)\n",
    "deribit_bt_df = pd.read_csv('strategy_dfs/deribit_backtest_df.csv', index_col=0)"
   ]
  },
  {
   "cell_type": "markdown",
   "id": "3ed914ba",
   "metadata": {},
   "source": [
    "# Backtest Analytics"
   ]
  },
  {
   "cell_type": "code",
   "execution_count": null,
   "id": "d89dbb4b",
   "metadata": {},
   "outputs": [],
   "source": [
    "def backtest_analytics(output):\n",
    "    output_df = pd.DataFrame(output).T\n",
    "    \n",
    "    pnl = output_df['unrealized_pnl']\n",
    "    capital = output_df['capital']\n",
    "    capital_for_rets = capital.replace(to_replace=0, method='ffill').shift(1)\n",
    "    rets = pnl / capital_for_rets\n",
    "    \n",
    "    pnl.cumsum().plot(figsize=(10, 5))\n",
    "    plt.ylabel('Cumulative $ PnL')\n",
    "    plt.grid(True)\n",
    "    plt.show()\n",
    "    \n",
    "    rets.cumsum().plot(figsize=(10, 5))\n",
    "    plt.ylabel('Cumulative % Rets')\n",
    "    plt.grid(True)\n",
    "    plt.show()\n",
    "    \n",
    "    er = rets.mean()*365*24\n",
    "    vol = rets.std()*np.sqrt(365*24)\n",
    "    sharpe = er / vol\n",
    "    print('ER: {:.2f}'.format(er))\n",
    "    print('Vol: {:.2f}'.format(vol))\n",
    "    print('Sharpe: {:.2f}'.format(sharpe))\n",
    "        \n",
    "    output_df['delta'].fillna(0).plot(figsize=(5, 3))\n",
    "    plt.ylabel('Portfolio Delta')\n",
    "    plt.grid(True)\n",
    "    plt.show()\n",
    "    \n",
    "    output_df['gamma'].fillna(0).plot(figsize=(5, 3))\n",
    "    plt.ylabel('Portfolio Gamma')\n",
    "    plt.grid(True)\n",
    "    plt.show()\n",
    "\n",
    "    output_df['vega'].fillna(0).plot(figsize=(5, 3))\n",
    "    plt.ylabel('Portfolio Vega (per 1% move)')\n",
    "    plt.grid(True)\n",
    "    plt.show()\n",
    "    \n",
    "    (output_df['theta'].fillna(0) / 24.).plot(figsize=(5, 3))\n",
    "    plt.ylabel('Portfolio Theta (hourly)')\n",
    "    plt.grid(True)\n",
    "    plt.show()\n",
    "\n",
    "    return {\n",
    "        'rets': rets, \n",
    "        'pnl': pnl, \n",
    "        'stats': {'er': er, 'vol': vol, 'sharpe': sharpe}\n",
    "    }"
   ]
  },
  {
   "cell_type": "code",
   "execution_count": null,
   "id": "ce4d22d5",
   "metadata": {},
   "outputs": [],
   "source": [
    "def plot_diff_settings(output, setting_name='IV Ratio Trigger'):\n",
    "    columns = list(output.keys())\n",
    "    pnl_df = pd.DataFrame({key: val['analytics']['pnl'] for key, val in output.items()}, columns=columns)\n",
    "    rets_df = pd.DataFrame({key: val['analytics']['rets'] for key, val in output.items()}, columns=columns)\n",
    "    \n",
    "    pnl_df.cumsum().plot(figsize=(10, 5))\n",
    "    plt.ylabel('Cumulative $ PnL')\n",
    "    plt.legend(title=setting_name)\n",
    "    plt.grid(True)\n",
    "    plt.show()\n",
    "    \n",
    "    rets_df.cumsum().plot(figsize=(10, 5))\n",
    "    plt.ylabel('Cumulative % Rets')\n",
    "    plt.legend(title=setting_name)\n",
    "    plt.grid(True)\n",
    "    plt.show()\n",
    "\n",
    "    stats_df = pd.DataFrame({key: val['analytics']['stats'] for key, val in output.items()}, columns=columns)\n",
    "    return pnl_df, rets_df, stats_df\n",
    "    "
   ]
  },
  {
   "cell_type": "code",
   "execution_count": null,
   "id": "0114756e",
   "metadata": {},
   "outputs": [],
   "source": [
    "def convert_by_asset_to_df(output, item = 'unrealized_pnl_by_asset'):\n",
    "    output_dict = {time: output[time][item] for time in output.keys()}\n",
    "    return pd.DataFrame(output_dict).T"
   ]
  },
  {
   "cell_type": "markdown",
   "id": "ab24c883",
   "metadata": {},
   "source": [
    "# Different IV Ratio Triggers"
   ]
  },
  {
   "cell_type": "code",
   "execution_count": null,
   "id": "997bea22",
   "metadata": {},
   "outputs": [],
   "source": [
    "def run_different_iv_triggers(\n",
    "    squeeth_bt_df,\n",
    "    deribit_bt_df,\n",
    "    vals=[0, 1, 1.1, 1.2, 1.3, 1.4]\n",
    "):\n",
    "    return_dict = {}\n",
    "    for val in vals:\n",
    "        print('Running iv trigger = {}'.format(val))\n",
    "        sr = StrategyRunner(squeeth_bt_df, deribit_bt_df, ivol_ratio_trigger=val)\n",
    "        output = sr.run()\n",
    "        return_dict[val] = {'output': output, 'analytics': backtest_analytics(output)}\n",
    "    return return_dict"
   ]
  },
  {
   "cell_type": "code",
   "execution_count": null,
   "id": "2a98b184",
   "metadata": {},
   "outputs": [],
   "source": [
    "iv_ratio_results = run_different_iv_triggers(squeeth_bt_df, deribit_bt_df)"
   ]
  },
  {
   "cell_type": "code",
   "execution_count": null,
   "id": "9a373448",
   "metadata": {},
   "outputs": [],
   "source": [
    "iv_ratio_results_formatted = plot_diff_settings(iv_ratio_results, 'IV Ratio Trigger')"
   ]
  },
  {
   "cell_type": "markdown",
   "id": "8b2a953b",
   "metadata": {},
   "source": [
    "# Different EWMA Smooth"
   ]
  },
  {
   "cell_type": "code",
   "execution_count": null,
   "id": "aa6314af",
   "metadata": {},
   "outputs": [],
   "source": [
    "def run_different_ewma_halflifes(\n",
    "    squeeth_bt_df,\n",
    "    deribit_bt_df,\n",
    "    vals=[0.0001, 1, 3, 5, 10, 20, 50]\n",
    "):\n",
    "    return_dict = {}\n",
    "    for val in vals:\n",
    "        print('Running EWMA halflife = {} hours'.format(val))\n",
    "        sr = StrategyRunner(squeeth_bt_df, deribit_bt_df, ivol_smooth_halflife=val)\n",
    "        output = sr.run()\n",
    "        return_dict[val] = {'output': output, 'analytics': backtest_analytics(output)}\n",
    "    return return_dict"
   ]
  },
  {
   "cell_type": "code",
   "execution_count": null,
   "id": "d1ec32a9",
   "metadata": {},
   "outputs": [],
   "source": [
    "ewma_results = run_different_ewma_halflifes(squeeth_bt_df, deribit_bt_df)"
   ]
  },
  {
   "cell_type": "code",
   "execution_count": null,
   "id": "12311c7c",
   "metadata": {},
   "outputs": [],
   "source": [
    "ewma_results_formatted = plot_diff_settings(ewma_results, 'EMWA Halflife')"
   ]
  },
  {
   "cell_type": "code",
   "execution_count": null,
   "id": "0f41ccaf",
   "metadata": {},
   "outputs": [],
   "source": []
  },
  {
   "cell_type": "markdown",
   "id": "49ef56e5",
   "metadata": {},
   "source": [
    "# Run Different Tcost Multipliers"
   ]
  },
  {
   "cell_type": "code",
   "execution_count": null,
   "id": "95a47004",
   "metadata": {},
   "outputs": [],
   "source": [
    "def run_different_tcost_multipliers(\n",
    "    squeeth_bt_df,\n",
    "    deribit_bt_df,\n",
    "    vals=[0.5, 1, 1.5, 2, 3]\n",
    "):\n",
    "    return_dict = {}\n",
    "    for val in vals:\n",
    "        print('Running tcost multiplier = {}'.format(val))\n",
    "        sr = StrategyRunner(squeeth_bt_df, deribit_bt_df, tcost_multiplier=val)\n",
    "        output = sr.run()\n",
    "        return_dict[val] = {'output': output, 'analytics': backtest_analytics(output)}\n",
    "    return return_dict"
   ]
  },
  {
   "cell_type": "code",
   "execution_count": null,
   "id": "46e73489",
   "metadata": {},
   "outputs": [],
   "source": [
    "tcost_results = run_different_tcost_multipliers(squeeth_bt_df, deribit_bt_df)"
   ]
  },
  {
   "cell_type": "code",
   "execution_count": null,
   "id": "9f84b061",
   "metadata": {},
   "outputs": [],
   "source": [
    "tcost_results_formatted = plot_diff_settings(tcost_results, 'Tcost Multiplier')"
   ]
  },
  {
   "cell_type": "code",
   "execution_count": null,
   "id": "3a238ddb",
   "metadata": {},
   "outputs": [],
   "source": []
  }
 ],
 "metadata": {
  "kernelspec": {
   "display_name": "Python 3",
   "language": "python",
   "name": "python3"
  },
  "language_info": {
   "codemirror_mode": {
    "name": "ipython",
    "version": 3
   },
   "file_extension": ".py",
   "mimetype": "text/x-python",
   "name": "python",
   "nbconvert_exporter": "python",
   "pygments_lexer": "ipython3",
   "version": "3.8.13"
  }
 },
 "nbformat": 4,
 "nbformat_minor": 5
}
