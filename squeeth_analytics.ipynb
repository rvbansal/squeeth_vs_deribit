{
 "cells": [
  {
   "cell_type": "code",
   "execution_count": null,
   "id": "0e2b3bcc",
   "metadata": {},
   "outputs": [],
   "source": [
    "import pandas as pd\n",
    "import numpy as np"
   ]
  },
  {
   "cell_type": "code",
   "execution_count": null,
   "id": "39568420",
   "metadata": {},
   "outputs": [],
   "source": [
    "PROCESSED_PATH = './processed_squeeth_datasets'"
   ]
  },
  {
   "cell_type": "code",
   "execution_count": null,
   "id": "5c224345",
   "metadata": {},
   "outputs": [],
   "source": [
    "squeeth_data_dict = {\n",
    "    'uniswap_eu': pd.read_csv(PROCESSED_PATH + '/eth_usdc_data.csv'),\n",
    "    'uniswap_oe_burn': pd.read_csv(PROCESSED_PATH + '/osqth_eth_burn_data.csv'),\n",
    "    'uniswap_oe_mint': pd.read_csv(PROCESSED_PATH + '/osqth_eth_mint_data.csv'),\n",
    "    'uniswap_oe_collect': pd.read_csv(PROCESSED_PATH + '/osqth_eth_collect_data.csv'),\n",
    "    'uniswap_oe': pd.read_csv(PROCESSED_PATH + '/osqth_eth_data.csv'),\n",
    "    'squeeth_liquidate': pd.read_csv(PROCESSED_PATH + '/liquidate_data.csv'),\n",
    "    'squeeth_mint_short': pd.read_csv(PROCESSED_PATH + '/mint_short_data.csv'),\n",
    "    'squeeth_norm_factor': pd.read_csv(PROCESSED_PATH + '/norm_factor_data.csv'),\n",
    "    'squeeth_open_vault': pd.read_csv(PROCESSED_PATH + '/open_vault_data.csv'),\n",
    "    'squeeth_withdraw_collateral': pd.read_csv(PROCESSED_PATH + '/withdraw_collateral_data.csv'),\n",
    "    'squeeth_burn_short': pd.read_csv(PROCESSED_PATH + '/burn_short_data.csv'),\n",
    "    'squeeth_deposit_collateral': pd.read_csv(PROCESSED_PATH + '/deposit_collateral_data.csv')\n",
    "}\n",
    "\n",
    "for _, df in squeeth_data_dict.items():\n",
    "    if 'timestamp' in df.columns:\n",
    "        df['timestamp'] = pd.to_datetime(df['timestamp'], utc=True)"
   ]
  },
  {
   "cell_type": "markdown",
   "id": "4f30eb61",
   "metadata": {},
   "source": [
    "# Num of Normalization Factor Updates"
   ]
  },
  {
   "cell_type": "code",
   "execution_count": null,
   "id": "a651607f",
   "metadata": {},
   "outputs": [],
   "source": [
    "norm_factor_df = squeeth_data_dict['squeeth_norm_factor']\n",
    "avg_per_hour = norm_factor_df.groupby(pd.Grouper(key='timestamp', freq='H')).count()['newNormFactor'].mean()\n",
    "print('Normalization factor updates about {:0.2f} times per hour.'.format(avg_per_hour))"
   ]
  },
  {
   "cell_type": "markdown",
   "id": "8cfc9ec5",
   "metadata": {},
   "source": [
    "# Gas Costs"
   ]
  },
  {
   "cell_type": "code",
   "execution_count": null,
   "id": "5441ac96",
   "metadata": {},
   "outputs": [],
   "source": [
    "eth_price = 2500\n",
    "mint_short_df = squeeth_data_dict['squeeth_mint_short']\n",
    "burn_short_df = squeeth_data_dict['squeeth_burn_short']\n",
    "mint_short_gas = ((mint_short_df['gas']*mint_short_df['gasPrice']) / 10**18)*eth_price\n",
    "burn_short_gas = ((burn_short_df['gas']*burn_short_df['gasPrice']) / 10**18)*eth_price\n",
    "\n",
    "print('Mint short median gas cost = {:0.2f}.'.format(mint_short_gas.quantile(0.5)))\n",
    "print('Burn short median gas cost = {:0.2f}.'.format(burn_short_gas.quantile(0.5)))\n",
    "print('Mint short 75th quantile gas cost = {:0.2f}.'.format(mint_short_gas.quantile(0.75)))\n",
    "print('Burn short 75th quantile gas cost = {:0.2f}.'.format(burn_short_gas.quantile(0.75)))"
   ]
  },
  {
   "cell_type": "code",
   "execution_count": null,
   "id": "af4c6bd3",
   "metadata": {},
   "outputs": [],
   "source": []
  },
  {
   "cell_type": "code",
   "execution_count": null,
   "id": "fb9f5955",
   "metadata": {},
   "outputs": [],
   "source": []
  }
 ],
 "metadata": {
  "kernelspec": {
   "display_name": "Python 3",
   "language": "python",
   "name": "python3"
  },
  "language_info": {
   "codemirror_mode": {
    "name": "ipython",
    "version": 3
   },
   "file_extension": ".py",
   "mimetype": "text/x-python",
   "name": "python",
   "nbconvert_exporter": "python",
   "pygments_lexer": "ipython3",
   "version": "3.8.13"
  }
 },
 "nbformat": 4,
 "nbformat_minor": 5
}
